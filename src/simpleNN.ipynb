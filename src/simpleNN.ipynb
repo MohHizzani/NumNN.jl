{
 "cells": [
  {
   "cell_type": "code",
   "execution_count": 4,
   "metadata": {},
   "outputs": [],
   "source": [
    "using Plots\n",
    "using HDF5"
   ]
  },
  {
   "cell_type": "code",
   "execution_count": 6,
   "metadata": {},
   "outputs": [
    {
     "data": {
      "text/plain": [
       "pic_model (generic function with 5 methods)"
      ]
     },
     "execution_count": 6,
     "metadata": {},
     "output_type": "execute_result"
    }
   ],
   "source": [
    "include(\"simpleNN.jl\")"
   ]
  },
  {
   "cell_type": "code",
   "execution_count": 7,
   "metadata": {},
   "outputs": [
    {
     "ename": "DimensionMismatch",
     "evalue": "DimensionMismatch(\"mismatch in dimension 1 (expected 0 got 1)\")",
     "output_type": "error",
     "traceback": [
      "DimensionMismatch(\"mismatch in dimension 1 (expected 0 got 1)\")",
      "",
      "Stacktrace:",
      " [1] cat_shape(::Tuple{Bool,Bool}, ::Tuple{}, ::Tuple{Int64,Int64}, ::Tuple{Int64}) at ./abstractarray.jl:1421",
      " [2] _cat_t(::Int64, ::Type, ::Array{Any,2}, ::Vararg{Any,N} where N) at ./abstractarray.jl:1441",
      " [3] #cat_t#103(::Int64, ::typeof(Base.cat_t), ::Type{Any}, ::Array{Any,2}, ::Vararg{Any,N} where N) at ./abstractarray.jl:1438",
      " [4] (::Base.var\"#kw##cat_t\")(::NamedTuple{(:dims,),Tuple{Int64}}, ::typeof(Base.cat_t), ::Type{Any}, ::Array{Any,2}, ::Vararg{Any,N} where N) at ./none:0",
      " [5] _cat(::Int64, ::Array{Any,2}, ::Vararg{Any,N} where N) at ./abstractarray.jl:1436",
      " [6] #cat#104(::Int64, ::typeof(cat), ::Array{Any,2}, ::Vararg{Any,N} where N) at ./abstractarray.jl:1565",
      " [7] (::Base.var\"#kw##cat\")(::NamedTuple{(:dims,),Tuple{Int64}}, ::typeof(cat), ::Array{Any,2}, ::Vararg{Any,N} where N) at ./none:0",
      " [8] #multiBackprop#8(::typeof(crossentropy), ::Float64, ::typeof(multiBackprop), ::Array{Float64,2}, ::Array{Float64,2}, ::Array{Float64,2}, ::Float64, ::Float64, ::typeof(σ), ::Int64) at /home/mhizzani/Codes/NNCourse/simpleNN.jl:135",
      " [9] multiBackprop(::Array{Float64,2}, ::Array{Float64,2}, ::Array{Float64,2}, ::Float64, ::Float64, ::Function, ::Int64) at /home/mhizzani/Codes/NNCourse/simpleNN.jl:125",
      " [10] top-level scope at In[7]:4"
     ]
    }
   ],
   "source": [
    "x = rand(1000,100)\n",
    "w, b = initWB(x)\n",
    "y = rand(1, 100)\n",
    "wn, bn, costs = multiBackprop(x, y, w, b, 0.0001, σ, 2000)\n",
    "ŷ = predict(wn, bn, x, σ)\n",
    "crossentropy(ŷ, y)"
   ]
  },
  {
   "cell_type": "code",
   "execution_count": null,
   "metadata": {},
   "outputs": [],
   "source": []
  },
  {
   "cell_type": "code",
   "execution_count": 8,
   "metadata": {},
   "outputs": [
    {
     "data": {
      "text/plain": [
       "Plots.GRBackend()"
      ]
     },
     "execution_count": 8,
     "metadata": {},
     "output_type": "execute_result"
    }
   ],
   "source": [
    "gr()"
   ]
  },
  {
   "cell_type": "code",
   "execution_count": 9,
   "metadata": {},
   "outputs": [
    {
     "ename": "UndefVarError",
     "evalue": "UndefVarError: costs not defined",
     "output_type": "error",
     "traceback": [
      "UndefVarError: costs not defined",
      "",
      "Stacktrace:",
      " [1] top-level scope at In[9]:1"
     ]
    }
   ],
   "source": [
    "plot(1:length(costs), costs)\n",
    "# scatter!(1:length(costs), costs)"
   ]
  },
  {
   "cell_type": "code",
   "execution_count": null,
   "metadata": {},
   "outputs": [],
   "source": []
  },
  {
   "cell_type": "markdown",
   "metadata": {},
   "source": [
    "\n",
    "# Test on Cats Pics\n",
    "\n",
    "Test the previous model on hdf5 data of cat pics to do classification"
   ]
  },
  {
   "cell_type": "code",
   "execution_count": 42,
   "metadata": {},
   "outputs": [
    {
     "data": {
      "text/plain": [
       "(3, 64, 64, 50)"
      ]
     },
     "execution_count": 42,
     "metadata": {},
     "output_type": "execute_result"
    }
   ],
   "source": [
    "h5open(\"train_catvnoncat.h5\", \"r\") do train_file\n",
    "    global train_set_x_org = read(train_file, \"train_set_x\")\n",
    "    global train_set_y     = read(train_file, \"train_set_y\")\n",
    "    train_set_y = reshape(train_set_y, 1, length(train_set_y))\n",
    "end\n",
    "h5open(\"test_catvnoncat.h5\", \"r\") do test_file\n",
    "    global test_set_x_org = read(test_file, \"test_set_x\")\n",
    "    global test_set_y     = read(test_file, \"test_set_y\")\n",
    "    test_set_y = reshape(test_set_y, 1, length(test_set_y))\n",
    "    global classes = read(test_file, \"list_classes\")\n",
    "end\n",
    ";\n",
    "rgp, npxls, npxls, npics_train = size(train_set_x_org)\n",
    "rgp, npxls, npxls, npics_test = size(test_set_x_org)"
   ]
  },
  {
   "cell_type": "code",
   "execution_count": 43,
   "metadata": {},
   "outputs": [
    {
     "data": {
      "text/plain": [
       "0.6931471805599454"
      ]
     },
     "execution_count": 43,
     "metadata": {},
     "output_type": "execute_result"
    }
   ],
   "source": [
    "X_train = reshape(train_set_x_org, (rgp*npxls*npxls, npics_train))\n",
    "X_train = X_train ./ 255\n",
    "X_test = reshape(test_set_x_org, (rgp*npxls*npxls, npics_test))\n",
    "X_test = X_test ./ 255\n",
    "Y_train = train_set_y\n",
    "Y_test = test_set_y\n",
    "w, b = initWB(X_train)\n",
    "Ŷ_train = predict(X_train, w, b, σ)\n",
    "Ŷ_test = zeros((1, npics_test))\n",
    "crossentropy(Ŷ_train, Y_train)"
   ]
  },
  {
   "cell_type": "code",
   "execution_count": 44,
   "metadata": {},
   "outputs": [
    {
     "ename": "DimensionMismatch",
     "evalue": "DimensionMismatch(\"mismatch in dimension 1 (expected 0 got 1)\")",
     "output_type": "error",
     "traceback": [
      "DimensionMismatch(\"mismatch in dimension 1 (expected 0 got 1)\")",
      "",
      "Stacktrace:",
      " [1] cat_shape(::Tuple{Bool,Bool}, ::Tuple{}, ::Tuple{Int64,Int64}, ::Tuple{Int64}) at ./abstractarray.jl:1421",
      " [2] _cat_t(::Int64, ::Type, ::Array{Any,2}, ::Vararg{Any,N} where N) at ./abstractarray.jl:1441",
      " [3] #cat_t#105(::Int64, ::typeof(Base.cat_t), ::Type{Any}, ::Array{Any,2}, ::Vararg{Any,N} where N) at ./abstractarray.jl:1438",
      " [4] (::getfield(Base, Symbol(\"#kw##cat_t\")))(::NamedTuple{(:dims,),Tuple{Int64}}, ::typeof(Base.cat_t), ::Type{Any}, ::Array{Any,2}, ::Vararg{Any,N} where N) at ./none:0",
      " [5] _cat(::Int64, ::Array{Any,2}, ::Vararg{Any,N} where N) at ./abstractarray.jl:1436",
      " [6] #cat#106(::Int64, ::typeof(cat), ::Array{Any,2}, ::Vararg{Any,N} where N) at ./abstractarray.jl:1565",
      " [7] (::getfield(Base, Symbol(\"#kw##cat\")))(::NamedTuple{(:dims,),Tuple{Int64}}, ::typeof(cat), ::Array{Any,2}, ::Vararg{Any,N} where N) at ./none:0",
      " [8] #multiBackprop#43(::typeof(crossentropy), ::Float64, ::typeof(multiBackprop), ::Array{Float64,2}, ::Array{Int64,2}, ::Array{Float64,2}, ::Float64, ::Float64, ::typeof(σ), ::Int64) at /home/mhizzani/Codes/NNCourse/simpleNN.jl:135",
      " [9] multiBackprop(::Array{Float64,2}, ::Array{Int64,2}, ::Array{Float64,2}, ::Float64, ::Float64, ::Function, ::Int64) at /home/mhizzani/Codes/NNCourse/simpleNN.jl:125",
      " [10] pic_model(::Array{Float64,2}, ::Array{Int64,2}, ::Array{Float64,2}, ::Array{Int64,2}, ::Function, ::Int64, ::Float64, ::Bool) at /home/mhizzani/Codes/NNCourse/simpleNN.jl:176",
      " [11] pic_model(::Array{Float64,2}, ::Array{Int64,2}, ::Array{Float64,2}, ::Array{Int64,2}, ::Function, ::Int64, ::Float64) at /home/mhizzani/Codes/NNCourse/simpleNN.jl:174",
      " [12] top-level scope at In[44]:1"
     ]
    }
   ],
   "source": [
    "d = pic_model(X_train, Y_train, X_test, Y_test, σ, 2000, 0.005)"
   ]
  },
  {
   "cell_type": "code",
   "execution_count": 21,
   "metadata": {},
   "outputs": [
    {
     "name": "stdout",
     "output_type": "stream",
     "text": [
      "N = 388, Cost = NaN24595809055039\r"
     ]
    },
    {
     "ename": "InterruptException",
     "evalue": "InterruptException:",
     "output_type": "error",
     "traceback": [
      "InterruptException:",
      "",
      "Stacktrace:",
      " [1] Type at ./boot.jl:406 [inlined]",
      " [2] Type at ./boot.jl:414 [inlined]",
      " [3] Type at ./boot.jl:421 [inlined]",
      " [4] similar at ./abstractarray.jl:672 [inlined]",
      " [5] similar at ./abstractarray.jl:671 [inlined]",
      " [6] similar at ./broadcast.jl:196 [inlined]",
      " [7] copy at ./broadcast.jl:818 [inlined]",
      " [8] materialize at ./broadcast.jl:798 [inlined]",
      " [9] backprop(::Array{Float64,2}, ::Array{Int64,2}, ::Array{Float64,2}, ::Float64, ::Float64, ::Function, ::Function) at /home/mhizzani/Codes/NNCourse/simpleNN.jl:101",
      " [10] #multiBackprop#16(::typeof(crossentropy), ::Float64, ::typeof(multiBackprop), ::Array{Float64,2}, ::Array{Int64,2}, ::Array{Float64,2}, ::Float64, ::Float64, ::typeof(σ), ::Int64) at /home/mhizzani/Codes/NNCourse/simpleNN.jl:128",
      " [11] multiBackprop(::Array{Float64,2}, ::Array{Int64,2}, ::Array{Float64,2}, ::Float64, ::Float64, ::Function, ::Int64) at /home/mhizzani/Codes/NNCourse/simpleNN.jl:125",
      " [12] top-level scope at In[21]:5"
     ]
    }
   ],
   "source": [
    "# npics_train = size(train_set_x_org)[end]\n",
    "# npics_test = size(test_set_x_org)[end]\n",
    "# pxls_train = size(train_set_x_org)[2]\n",
    "w, b = initWB(X_train)\n",
    "w, b, train_costs = multiBackprop(X_train, Y_train, w, b, 0.005, σ, 2000)\n",
    "Ŷ_train = broadcast((x)-> x>0.5 ? 1 : 0, predict(X_train, w, b, σ))\n",
    "# x = reshape(test_set_x_org, (3*pxls_train^2,npics_test))\n",
    "# ŷ_test = broadcast((x)-> x>0.5 ? 1 : 0, predict(x, W, B, σ))\n",
    "\n",
    "# ŷ = σ.(W'x .+ B)\n",
    "# ŷ.==0\n",
    "# size(x)\n",
    "# costs"
   ]
  },
  {
   "cell_type": "code",
   "execution_count": 77,
   "metadata": {},
   "outputs": [
    {
     "name": "stdout",
     "output_type": "stream",
     "text": [
      "Accuracy of train set = 0.3444976076555024\n"
     ]
    }
   ],
   "source": [
    "println(\"Accuracy of train set = $(sum(abs.(train_set_y .* ŷ_train))/length(train_set_y))\")"
   ]
  },
  {
   "cell_type": "code",
   "execution_count": 79,
   "metadata": {},
   "outputs": [
    {
     "data": {
      "image/svg+xml": [
       "<?xml version=\"1.0\" encoding=\"utf-8\"?>\n",
       "<svg xmlns=\"http://www.w3.org/2000/svg\" xmlns:xlink=\"http://www.w3.org/1999/xlink\" width=\"600\" height=\"400\" viewBox=\"0 0 2400 1600\">\n",
       "<defs>\n",
       "  <clipPath id=\"clip5800\">\n",
       "    <rect x=\"0\" y=\"0\" width=\"2400\" height=\"1600\"/>\n",
       "  </clipPath>\n",
       "</defs>\n",
       "<path clip-path=\"url(#clip5800)\" d=\"\n",
       "M0 1600 L2400 1600 L2400 0 L0 0  Z\n",
       "  \" fill=\"#ffffff\" fill-rule=\"evenodd\" fill-opacity=\"1\"/>\n",
       "<defs>\n",
       "  <clipPath id=\"clip5801\">\n",
       "    <rect x=\"480\" y=\"0\" width=\"1681\" height=\"1600\"/>\n",
       "  </clipPath>\n",
       "</defs>\n",
       "<path clip-path=\"url(#clip5800)\" d=\"\n",
       "M167.279 1487.47 L2352.76 1487.47 L2352.76 47.2441 L167.279 47.2441  Z\n",
       "  \" fill=\"#ffffff\" fill-rule=\"evenodd\" fill-opacity=\"1\"/>\n",
       "<defs>\n",
       "  <clipPath id=\"clip5802\">\n",
       "    <rect x=\"167\" y=\"47\" width=\"2186\" height=\"1441\"/>\n",
       "  </clipPath>\n",
       "</defs>\n",
       "<polyline clip-path=\"url(#clip5802)\" style=\"stroke:#000000; stroke-width:2; stroke-opacity:0.1; fill:none\" points=\"\n",
       "  228.101,1487.47 228.101,47.2441 \n",
       "  \"/>\n",
       "<polyline clip-path=\"url(#clip5802)\" style=\"stroke:#000000; stroke-width:2; stroke-opacity:0.1; fill:none\" points=\"\n",
       "  743.801,1487.47 743.801,47.2441 \n",
       "  \"/>\n",
       "<polyline clip-path=\"url(#clip5802)\" style=\"stroke:#000000; stroke-width:2; stroke-opacity:0.1; fill:none\" points=\"\n",
       "  1259.5,1487.47 1259.5,47.2441 \n",
       "  \"/>\n",
       "<polyline clip-path=\"url(#clip5802)\" style=\"stroke:#000000; stroke-width:2; stroke-opacity:0.1; fill:none\" points=\"\n",
       "  1775.2,1487.47 1775.2,47.2441 \n",
       "  \"/>\n",
       "<polyline clip-path=\"url(#clip5802)\" style=\"stroke:#000000; stroke-width:2; stroke-opacity:0.1; fill:none\" points=\"\n",
       "  2290.9,1487.47 2290.9,47.2441 \n",
       "  \"/>\n",
       "<polyline clip-path=\"url(#clip5802)\" style=\"stroke:#000000; stroke-width:2; stroke-opacity:0.1; fill:none\" points=\"\n",
       "  167.279,1421.79 2352.76,1421.79 \n",
       "  \"/>\n",
       "<polyline clip-path=\"url(#clip5802)\" style=\"stroke:#000000; stroke-width:2; stroke-opacity:0.1; fill:none\" points=\"\n",
       "  167.279,1142.93 2352.76,1142.93 \n",
       "  \"/>\n",
       "<polyline clip-path=\"url(#clip5802)\" style=\"stroke:#000000; stroke-width:2; stroke-opacity:0.1; fill:none\" points=\"\n",
       "  167.279,864.065 2352.76,864.065 \n",
       "  \"/>\n",
       "<polyline clip-path=\"url(#clip5802)\" style=\"stroke:#000000; stroke-width:2; stroke-opacity:0.1; fill:none\" points=\"\n",
       "  167.279,585.203 2352.76,585.203 \n",
       "  \"/>\n",
       "<polyline clip-path=\"url(#clip5802)\" style=\"stroke:#000000; stroke-width:2; stroke-opacity:0.1; fill:none\" points=\"\n",
       "  167.279,306.34 2352.76,306.34 \n",
       "  \"/>\n",
       "<polyline clip-path=\"url(#clip5800)\" style=\"stroke:#000000; stroke-width:4; stroke-opacity:1; fill:none\" points=\"\n",
       "  167.279,1487.47 2352.76,1487.47 \n",
       "  \"/>\n",
       "<polyline clip-path=\"url(#clip5800)\" style=\"stroke:#000000; stroke-width:4; stroke-opacity:1; fill:none\" points=\"\n",
       "  167.279,1487.47 167.279,47.2441 \n",
       "  \"/>\n",
       "<polyline clip-path=\"url(#clip5800)\" style=\"stroke:#000000; stroke-width:4; stroke-opacity:1; fill:none\" points=\"\n",
       "  228.101,1487.47 228.101,1465.87 \n",
       "  \"/>\n",
       "<polyline clip-path=\"url(#clip5800)\" style=\"stroke:#000000; stroke-width:4; stroke-opacity:1; fill:none\" points=\"\n",
       "  743.801,1487.47 743.801,1465.87 \n",
       "  \"/>\n",
       "<polyline clip-path=\"url(#clip5800)\" style=\"stroke:#000000; stroke-width:4; stroke-opacity:1; fill:none\" points=\"\n",
       "  1259.5,1487.47 1259.5,1465.87 \n",
       "  \"/>\n",
       "<polyline clip-path=\"url(#clip5800)\" style=\"stroke:#000000; stroke-width:4; stroke-opacity:1; fill:none\" points=\"\n",
       "  1775.2,1487.47 1775.2,1465.87 \n",
       "  \"/>\n",
       "<polyline clip-path=\"url(#clip5800)\" style=\"stroke:#000000; stroke-width:4; stroke-opacity:1; fill:none\" points=\"\n",
       "  2290.9,1487.47 2290.9,1465.87 \n",
       "  \"/>\n",
       "<polyline clip-path=\"url(#clip5800)\" style=\"stroke:#000000; stroke-width:4; stroke-opacity:1; fill:none\" points=\"\n",
       "  167.279,1421.79 200.061,1421.79 \n",
       "  \"/>\n",
       "<polyline clip-path=\"url(#clip5800)\" style=\"stroke:#000000; stroke-width:4; stroke-opacity:1; fill:none\" points=\"\n",
       "  167.279,1142.93 200.061,1142.93 \n",
       "  \"/>\n",
       "<polyline clip-path=\"url(#clip5800)\" style=\"stroke:#000000; stroke-width:4; stroke-opacity:1; fill:none\" points=\"\n",
       "  167.279,864.065 200.061,864.065 \n",
       "  \"/>\n",
       "<polyline clip-path=\"url(#clip5800)\" style=\"stroke:#000000; stroke-width:4; stroke-opacity:1; fill:none\" points=\"\n",
       "  167.279,585.203 200.061,585.203 \n",
       "  \"/>\n",
       "<polyline clip-path=\"url(#clip5800)\" style=\"stroke:#000000; stroke-width:4; stroke-opacity:1; fill:none\" points=\"\n",
       "  167.279,306.34 200.061,306.34 \n",
       "  \"/>\n",
       "<g clip-path=\"url(#clip5800)\">\n",
       "<text style=\"fill:#000000; fill-opacity:1; font-family:Arial,Helvetica Neue,Helvetica,sans-serif; font-size:48px; text-anchor:middle;\" transform=\"rotate(0, 228.101, 1541.47)\" x=\"228.101\" y=\"1541.47\">0</text>\n",
       "</g>\n",
       "<g clip-path=\"url(#clip5800)\">\n",
       "<text style=\"fill:#000000; fill-opacity:1; font-family:Arial,Helvetica Neue,Helvetica,sans-serif; font-size:48px; text-anchor:middle;\" transform=\"rotate(0, 743.801, 1541.47)\" x=\"743.801\" y=\"1541.47\">500</text>\n",
       "</g>\n",
       "<g clip-path=\"url(#clip5800)\">\n",
       "<text style=\"fill:#000000; fill-opacity:1; font-family:Arial,Helvetica Neue,Helvetica,sans-serif; font-size:48px; text-anchor:middle;\" transform=\"rotate(0, 1259.5, 1541.47)\" x=\"1259.5\" y=\"1541.47\">1000</text>\n",
       "</g>\n",
       "<g clip-path=\"url(#clip5800)\">\n",
       "<text style=\"fill:#000000; fill-opacity:1; font-family:Arial,Helvetica Neue,Helvetica,sans-serif; font-size:48px; text-anchor:middle;\" transform=\"rotate(0, 1775.2, 1541.47)\" x=\"1775.2\" y=\"1541.47\">1500</text>\n",
       "</g>\n",
       "<g clip-path=\"url(#clip5800)\">\n",
       "<text style=\"fill:#000000; fill-opacity:1; font-family:Arial,Helvetica Neue,Helvetica,sans-serif; font-size:48px; text-anchor:middle;\" transform=\"rotate(0, 2290.9, 1541.47)\" x=\"2290.9\" y=\"1541.47\">2000</text>\n",
       "</g>\n",
       "<g clip-path=\"url(#clip5800)\">\n",
       "<text style=\"fill:#000000; fill-opacity:1; font-family:Arial,Helvetica Neue,Helvetica,sans-serif; font-size:48px; text-anchor:end;\" transform=\"rotate(0, 143.279, 1439.29)\" x=\"143.279\" y=\"1439.29\">20</text>\n",
       "</g>\n",
       "<g clip-path=\"url(#clip5800)\">\n",
       "<text style=\"fill:#000000; fill-opacity:1; font-family:Arial,Helvetica Neue,Helvetica,sans-serif; font-size:48px; text-anchor:end;\" transform=\"rotate(0, 143.279, 1160.43)\" x=\"143.279\" y=\"1160.43\">40</text>\n",
       "</g>\n",
       "<g clip-path=\"url(#clip5800)\">\n",
       "<text style=\"fill:#000000; fill-opacity:1; font-family:Arial,Helvetica Neue,Helvetica,sans-serif; font-size:48px; text-anchor:end;\" transform=\"rotate(0, 143.279, 881.565)\" x=\"143.279\" y=\"881.565\">60</text>\n",
       "</g>\n",
       "<g clip-path=\"url(#clip5800)\">\n",
       "<text style=\"fill:#000000; fill-opacity:1; font-family:Arial,Helvetica Neue,Helvetica,sans-serif; font-size:48px; text-anchor:end;\" transform=\"rotate(0, 143.279, 602.703)\" x=\"143.279\" y=\"602.703\">80</text>\n",
       "</g>\n",
       "<g clip-path=\"url(#clip5800)\">\n",
       "<text style=\"fill:#000000; fill-opacity:1; font-family:Arial,Helvetica Neue,Helvetica,sans-serif; font-size:48px; text-anchor:end;\" transform=\"rotate(0, 143.279, 323.84)\" x=\"143.279\" y=\"323.84\">100</text>\n",
       "</g>\n",
       "<path clip-path=\"url(#clip5800)\" d=\"\n",
       "M1989.93 251.724 L2280.76 251.724 L2280.76 130.764 L1989.93 130.764  Z\n",
       "  \" fill=\"#ffffff\" fill-rule=\"evenodd\" fill-opacity=\"1\"/>\n",
       "<polyline clip-path=\"url(#clip5800)\" style=\"stroke:#000000; stroke-width:4; stroke-opacity:1; fill:none\" points=\"\n",
       "  1989.93,251.724 2280.76,251.724 2280.76,130.764 1989.93,130.764 1989.93,251.724 \n",
       "  \"/>\n",
       "<polyline clip-path=\"url(#clip5800)\" style=\"stroke:#009af9; stroke-width:4; stroke-opacity:1; fill:none\" points=\"\n",
       "  2013.93,191.244 2157.93,191.244 \n",
       "  \"/>\n",
       "<g clip-path=\"url(#clip5800)\">\n",
       "<text style=\"fill:#000000; fill-opacity:1; font-family:Arial,Helvetica Neue,Helvetica,sans-serif; font-size:48px; text-anchor:start;\" transform=\"rotate(0, 2181.93, 208.744)\" x=\"2181.93\" y=\"208.744\">y1</text>\n",
       "</g>\n",
       "</svg>\n"
      ]
     },
     "execution_count": 79,
     "metadata": {},
     "output_type": "execute_result"
    }
   ],
   "source": [
    "plot(1:length(train_costs), train_costs)\n"
   ]
  },
  {
   "cell_type": "code",
   "execution_count": 11,
   "metadata": {},
   "outputs": [
    {
     "name": "stdout",
     "output_type": "stream",
     "text": [
      "search: \u001b[0m\u001b[1mp\u001b[22m\u001b[0m\u001b[1mu\u001b[22m\u001b[0m\u001b[1ms\u001b[22m\u001b[0m\u001b[1mh\u001b[22m\u001b[0m\u001b[1m!\u001b[22m \u001b[0m\u001b[1mp\u001b[22m\u001b[0m\u001b[1mu\u001b[22m\u001b[0m\u001b[1ms\u001b[22m\u001b[0m\u001b[1mh\u001b[22mfirst\u001b[0m\u001b[1m!\u001b[22m \u001b[0m\u001b[1mp\u001b[22m\u001b[0m\u001b[1mu\u001b[22m\u001b[0m\u001b[1ms\u001b[22m\u001b[0m\u001b[1mh\u001b[22mdisplay\n",
      "\n"
     ]
    },
    {
     "data": {
      "text/latex": [
       "\\begin{verbatim}\n",
       "push!(collection, items...) -> collection\n",
       "\\end{verbatim}\n",
       "Insert one or more \\texttt{items} at the end of \\texttt{collection}.\n",
       "\n",
       "\\section{Examples}\n",
       "\\begin{verbatim}\n",
       "julia> push!([1, 2, 3], 4, 5, 6)\n",
       "6-element Array{Int64,1}:\n",
       " 1\n",
       " 2\n",
       " 3\n",
       " 4\n",
       " 5\n",
       " 6\n",
       "\\end{verbatim}\n",
       "Use \\href{@ref}{\\texttt{append!}} to add all the elements of another collection to \\texttt{collection}. The result of the preceding example is equivalent to \\texttt{append!([1, 2, 3], [4, 5, 6])}.\n",
       "\n",
       "\\rule{\\textwidth}{1pt}\n",
       "\\begin{verbatim}\n",
       "push!(q::Deque{T}, x)\n",
       "\\end{verbatim}\n",
       "Add an element to the back\n",
       "\n",
       "\\rule{\\textwidth}{1pt}\n",
       "\\begin{verbatim}\n",
       "push!(sc, k=>v)\n",
       "\\end{verbatim}\n",
       "Argument \\texttt{sc} is a SortedDict or SortedMultiDict and \\texttt{k=>v} is a key-value pair. This inserts the key-value pair into the container. If the key is already present, this overwrites the old value. The return value is \\texttt{sc}. Time: O(\\emph{c} log \\emph{n})\n",
       "\n",
       "\\rule{\\textwidth}{1pt}\n",
       "\\begin{verbatim}\n",
       "push!(sc, k=>v)\n",
       "\\end{verbatim}\n",
       "Argument \\texttt{sc} is a SortedDict or SortedMultiDict and \\texttt{k=>v} is a key-value pair. This inserts the key-value pair into the container. If the key is already present, this overwrites the old value. The return value is \\texttt{sc}. Time: O(\\emph{c} log \\emph{n})\n",
       "\n",
       "\\rule{\\textwidth}{1pt}\n",
       "\\begin{verbatim}\n",
       "push!(sc, k)\n",
       "\\end{verbatim}\n",
       "Argument \\texttt{sc} is a SortedSet and \\texttt{k} is a key. This inserts the key into the container. If the key is already present, this overwrites the old value. (This is not necessarily a no-op; see below for remarks about the customizing the sort order.) The return value is \\texttt{sc}. Time: O(\\emph{c} log \\emph{n})\n",
       "\n",
       "\\rule{\\textwidth}{1pt}\n",
       "\\begin{verbatim}\n",
       "push!(cb::CircularBuffer, data)\n",
       "\\end{verbatim}\n",
       "Add an element to the back and overwrite front if full.\n",
       "\n"
      ],
      "text/markdown": [
       "```\n",
       "push!(collection, items...) -> collection\n",
       "```\n",
       "\n",
       "Insert one or more `items` at the end of `collection`.\n",
       "\n",
       "# Examples\n",
       "\n",
       "```jldoctest\n",
       "julia> push!([1, 2, 3], 4, 5, 6)\n",
       "6-element Array{Int64,1}:\n",
       " 1\n",
       " 2\n",
       " 3\n",
       " 4\n",
       " 5\n",
       " 6\n",
       "```\n",
       "\n",
       "Use [`append!`](@ref) to add all the elements of another collection to `collection`. The result of the preceding example is equivalent to `append!([1, 2, 3], [4, 5, 6])`.\n",
       "\n",
       "---\n",
       "\n",
       "```\n",
       "push!(q::Deque{T}, x)\n",
       "```\n",
       "\n",
       "Add an element to the back\n",
       "\n",
       "---\n",
       "\n",
       "```\n",
       "push!(sc, k=>v)\n",
       "```\n",
       "\n",
       "Argument `sc` is a SortedDict or SortedMultiDict and `k=>v` is a key-value pair. This inserts the key-value pair into the container. If the key is already present, this overwrites the old value. The return value is `sc`. Time: O(*c* log *n*)\n",
       "\n",
       "---\n",
       "\n",
       "```\n",
       "push!(sc, k=>v)\n",
       "```\n",
       "\n",
       "Argument `sc` is a SortedDict or SortedMultiDict and `k=>v` is a key-value pair. This inserts the key-value pair into the container. If the key is already present, this overwrites the old value. The return value is `sc`. Time: O(*c* log *n*)\n",
       "\n",
       "---\n",
       "\n",
       "```\n",
       "push!(sc, k)\n",
       "```\n",
       "\n",
       "Argument `sc` is a SortedSet and `k` is a key. This inserts the key into the container. If the key is already present, this overwrites the old value. (This is not necessarily a no-op; see below for remarks about the customizing the sort order.) The return value is `sc`. Time: O(*c* log *n*)\n",
       "\n",
       "---\n",
       "\n",
       "```\n",
       "push!(cb::CircularBuffer, data)\n",
       "```\n",
       "\n",
       "Add an element to the back and overwrite front if full.\n"
      ],
      "text/plain": [
       "\u001b[36m  push!(collection, items...) -> collection\u001b[39m\n",
       "\n",
       "  Insert one or more \u001b[36mitems\u001b[39m at the end of \u001b[36mcollection\u001b[39m.\n",
       "\n",
       "\u001b[1m  Examples\u001b[22m\n",
       "\u001b[1m  ≡≡≡≡≡≡≡≡≡≡\u001b[22m\n",
       "\n",
       "\u001b[36m  julia> push!([1, 2, 3], 4, 5, 6)\u001b[39m\n",
       "\u001b[36m  6-element Array{Int64,1}:\u001b[39m\n",
       "\u001b[36m   1\u001b[39m\n",
       "\u001b[36m   2\u001b[39m\n",
       "\u001b[36m   3\u001b[39m\n",
       "\u001b[36m   4\u001b[39m\n",
       "\u001b[36m   5\u001b[39m\n",
       "\u001b[36m   6\u001b[39m\n",
       "\n",
       "  Use \u001b[36mappend!\u001b[39m to add all the elements of another collection to \u001b[36mcollection\u001b[39m. The\n",
       "  result of the preceding example is equivalent to \u001b[36mappend!([1, 2, 3], [4, 5,\n",
       "  6])\u001b[39m.\n",
       "\n",
       "  ────────────────────────────────────────────────────────────────────────────\n",
       "\n",
       "\u001b[36m  push!(q::Deque{T}, x)\u001b[39m\n",
       "\n",
       "  Add an element to the back\n",
       "\n",
       "  ────────────────────────────────────────────────────────────────────────────\n",
       "\n",
       "\u001b[36m  push!(sc, k=>v)\u001b[39m\n",
       "\n",
       "  Argument \u001b[36msc\u001b[39m is a SortedDict or SortedMultiDict and \u001b[36mk=>v\u001b[39m is a key-value pair.\n",
       "  This inserts the key-value pair into the container. If the key is already\n",
       "  present, this overwrites the old value. The return value is \u001b[36msc\u001b[39m. Time: O(\u001b[4mc\u001b[24m\n",
       "  log \u001b[4mn\u001b[24m)\n",
       "\n",
       "  ────────────────────────────────────────────────────────────────────────────\n",
       "\n",
       "\u001b[36m  push!(sc, k=>v)\u001b[39m\n",
       "\n",
       "  Argument \u001b[36msc\u001b[39m is a SortedDict or SortedMultiDict and \u001b[36mk=>v\u001b[39m is a key-value pair.\n",
       "  This inserts the key-value pair into the container. If the key is already\n",
       "  present, this overwrites the old value. The return value is \u001b[36msc\u001b[39m. Time: O(\u001b[4mc\u001b[24m\n",
       "  log \u001b[4mn\u001b[24m)\n",
       "\n",
       "  ────────────────────────────────────────────────────────────────────────────\n",
       "\n",
       "\u001b[36m  push!(sc, k)\u001b[39m\n",
       "\n",
       "  Argument \u001b[36msc\u001b[39m is a SortedSet and \u001b[36mk\u001b[39m is a key. This inserts the key into the\n",
       "  container. If the key is already present, this overwrites the old value.\n",
       "  (This is not necessarily a no-op; see below for remarks about the\n",
       "  customizing the sort order.) The return value is \u001b[36msc\u001b[39m. Time: O(\u001b[4mc\u001b[24m log \u001b[4mn\u001b[24m)\n",
       "\n",
       "  ────────────────────────────────────────────────────────────────────────────\n",
       "\n",
       "\u001b[36m  push!(cb::CircularBuffer, data)\u001b[39m\n",
       "\n",
       "  Add an element to the back and overwrite front if full."
      ]
     },
     "execution_count": 11,
     "metadata": {},
     "output_type": "execute_result"
    }
   ],
   "source": [
    "?push!"
   ]
  },
  {
   "cell_type": "code",
   "execution_count": null,
   "metadata": {},
   "outputs": [],
   "source": []
  }
 ],
 "metadata": {
  "kernelspec": {
   "display_name": "Julia 1.3.0",
   "language": "julia",
   "name": "julia-1.3"
  },
  "language_info": {
   "file_extension": ".jl",
   "mimetype": "application/julia",
   "name": "julia",
   "version": "1.3.0"
  }
 },
 "nbformat": 4,
 "nbformat_minor": 4
}
