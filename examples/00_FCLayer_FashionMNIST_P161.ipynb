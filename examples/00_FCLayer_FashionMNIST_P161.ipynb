{
 "cells": [
  {
   "cell_type": "markdown",
   "metadata": {},
   "source": [
    "# Fully-Connected Layers Tutorial on Fashion MNIST Data Set "
   ]
  },
  {
   "cell_type": "markdown",
   "metadata": {},
   "source": [
    "This is a naive tutorial on how to use `FCLayer` (Fully-connected Layer) to train and predict the Fashion MNIST data set"
   ]
  },
  {
   "cell_type": "markdown",
   "metadata": {},
   "source": [
    "### First Let's load the Packages"
   ]
  },
  {
   "cell_type": "code",
   "execution_count": 1,
   "metadata": {},
   "outputs": [
    {
     "data": {
      "text/plain": [
       "Plots.GRBackend()"
      ]
     },
     "execution_count": 1,
     "metadata": {},
     "output_type": "execute_result"
    }
   ],
   "source": [
    "using MLDatasets\n",
    "using NumNN\n",
    "using Plots\n",
    "gr()"
   ]
  },
  {
   "cell_type": "markdown",
   "metadata": {},
   "source": [
    "### Temp for ProgressMeter.jl Package"
   ]
  },
  {
   "cell_type": "code",
   "execution_count": 2,
   "metadata": {},
   "outputs": [],
   "source": [
    "### uncomment this line the first time you run this code\n",
    "# ] add https://github.com/timholy/ProgressMeter.jl.git ;"
   ]
  },
  {
   "cell_type": "code",
   "execution_count": 3,
   "metadata": {},
   "outputs": [],
   "source": [
    "using ProgressMeter\n",
    "ProgressMeter.ijulia_behavior(:clear);"
   ]
  },
  {
   "cell_type": "markdown",
   "metadata": {},
   "source": [
    "### Load the Train/Test Data/Labels"
   ]
  },
  {
   "cell_type": "code",
   "execution_count": 4,
   "metadata": {},
   "outputs": [],
   "source": [
    "X_train, Y_train = FashionMNIST.traindata(Float64);\n",
    "X_test, Y_test = FashionMNIST.testdata(Float64);"
   ]
  },
  {
   "cell_type": "code",
   "execution_count": 6,
   "metadata": {},
   "outputs": [],
   "source": [
    "using SigmoidNumbers\n",
    "P1 = Posit{16,1}\n",
    "# P2 = Posit{16,1}\n",
    "\n",
    "Base.convert(::Type{P}, b::Bool) where {P <: Posit} = P.(Float64(b))\n",
    "Posit{N,ES}(b::Bool) where {N,ES} = convert(Posit{N,ES}, b)\n",
    "Base.exp(a::P) where {P <: Posit} = P.(exp(Float64(a)))\n",
    "Base.promote_rule(::Type{P}, ::Type{IE}) where {P <: Posit, IE <: Base.IEEEFloat} = P"
   ]
  },
  {
   "cell_type": "markdown",
   "metadata": {},
   "source": [
    "### Let's Prepare The Data/Labels"
   ]
  },
  {
   "cell_type": "code",
   "execution_count": 7,
   "metadata": {},
   "outputs": [],
   "source": [
    "X_train ./= 255\n",
    "X_train = P1.(X_train)\n",
    "X_test ./= 255\n",
    "X_test = P1.(X_test)\n",
    "Y_train = oneHot(Y_train)\n",
    "Y_test = oneHot(Y_test);"
   ]
  },
  {
   "cell_type": "markdown",
   "metadata": {},
   "source": [
    "### It's Time fot The Layers "
   ]
  },
  {
   "cell_type": "code",
   "execution_count": 8,
   "metadata": {},
   "outputs": [],
   "source": [
    "X_Input = Input(X_train) #or Input(size(X_train))\n",
    "X = Flatten()(X_Input)\n",
    "X = FCLayer(120, :relu)(X)\n",
    "X_Output = FCLayer(10, :softmax)(X);"
   ]
  },
  {
   "cell_type": "markdown",
   "metadata": {},
   "source": [
    "Another way when there is no side branches is to use the `chain` function as follows:\n",
    "\n",
    "```julia\n",
    "X_Input, X_Ouput = chain(X_train,[Flatten(),FCLayer(120,:relu),FCLayer(10,:softmax)]);\n",
    "```\n",
    "\n",
    "`chain` returns a `Tuple` of two pointers of the Input `Layer` and Output `Layer`"
   ]
  },
  {
   "cell_type": "markdown",
   "metadata": {},
   "source": [
    "### Define the Model "
   ]
  },
  {
   "cell_type": "markdown",
   "metadata": {},
   "source": [
    "This will also initialize the `Layer`s' parameters"
   ]
  },
  {
   "cell_type": "code",
   "execution_count": 9,
   "metadata": {},
   "outputs": [],
   "source": [
    "model = Model(X_train,Y_train,X_Input,X_Output, 0.005; optimizer=:adam, paramsDtype=P1);"
   ]
  },
  {
   "cell_type": "markdown",
   "metadata": {},
   "source": [
    "#### Let's use `predict` to see the current Accuracy"
   ]
  },
  {
   "cell_type": "code",
   "execution_count": 10,
   "metadata": {},
   "outputs": [
    {
     "name": "stderr",
     "output_type": "stream",
     "text": [
      "\u001b[32mProgress: 100%|█████████████████████████████████████████| Time: 0:00:59\u001b[39m\n",
      "\u001b[34m  Instances 10000:  10000\u001b[39m\n"
     ]
    },
    {
     "name": "stdout",
     "output_type": "stream",
     "text": [
      "\n",
      "The accuracy of Test Data before the training process 0.1206\n"
     ]
    }
   ],
   "source": [
    "TestP = predict(model, X_test, Y_test);\n",
    "\n",
    "println()\n",
    "println(\"The accuracy of Test Data before the training process $(round(TestP[:accuracy], digits=4))\")"
   ]
  },
  {
   "cell_type": "code",
   "execution_count": 11,
   "metadata": {},
   "outputs": [
    {
     "name": "stderr",
     "output_type": "stream",
     "text": [
      "\u001b[32mProgress: 100%|█████████████████████████████████████████| Time: 0:05:09\u001b[39m\n",
      "\u001b[34m  Instances 60000:  60000\u001b[39m\n"
     ]
    },
    {
     "name": "stdout",
     "output_type": "stream",
     "text": [
      "\n",
      "The accuracy of Train Data before the training process 0.1177\n"
     ]
    }
   ],
   "source": [
    "TrainP = predict(model, X_train, Y_train);\n",
    "\n",
    "println()\n",
    "println(\"The accuracy of Train Data before the training process $(round(TrainP[:accuracy], digits=4))\")"
   ]
  },
  {
   "cell_type": "markdown",
   "metadata": {},
   "source": [
    "## Train the model"
   ]
  },
  {
   "cell_type": "code",
   "execution_count": 12,
   "metadata": {},
   "outputs": [
    {
     "name": "stderr",
     "output_type": "stream",
     "text": [
      "\u001b[32mProgress:   0%|▏                                        |  ETA: 2:34:50\u001b[39m\n",
      "\u001b[34m  Epoch 10:         1\u001b[39m\n",
      "\u001b[34m  Instances 60000:  1312\u001b[39m\n",
      "\u001b[34m  Train Cost:       2.2986\u001b[39m\n",
      "\u001b[34m  Train Accuracy:   0.112\u001b[39m"
     ]
    },
    {
     "ename": "InterruptException",
     "evalue": "InterruptException:",
     "output_type": "error",
     "traceback": [
      "InterruptException:",
      "",
      "Stacktrace:",
      " [1] Pair at ./pair.jl:12 [inlined]",
      " [2] Pair(::Symbol, ::Array{Posit{16,1},2}) at ./pair.jl:15",
      " [3] layerBackProp(::FCLayer, ::Model, ::Dict{Layer,Dict{Symbol,AbstractArray}}, ::Dict{Layer,Dict{Symbol,AbstractArray}}, ::Array{Any,2}; labels::Array{Any,2}, kwargs::Base.Iterators.Pairs{Union{},Union{},Tuple{},NamedTuple{(),Tuple{}}}) at /home/mhizzani/Codes/NumNN/src/parallelLayerBackProp.jl:179",
      " [4] layerBackProp at /home/mhizzani/Codes/NumNN/src/parallelLayerBackProp.jl:102 [inlined] (repeats 2 times)",
      " [5] chainBackProp(::Array{Posit{16,1},3}, ::BitArray{2}, ::Model, ::Dict{Layer,Dict{Symbol,AbstractArray}}, ::FCLayer, ::Dict{Layer,Dict{Symbol,AbstractArray}}, ::Int64; tMiniBatch::Int64, kwargs::Base.Iterators.Pairs{Union{},Union{},Tuple{},NamedTuple{(),Tuple{}}}) at /home/mhizzani/Codes/NumNN/src/parallelBackForProp.jl:384",
      " [6] chainBackProp(::Array{Posit{16,1},3}, ::BitArray{2}, ::Model, ::Dict{Layer,Dict{Symbol,AbstractArray}}, ::Nothing, ::Dict{Layer,Dict{Symbol,AbstractArray}}, ::Int64; tMiniBatch::Int64, kwargs::Base.Iterators.Pairs{Union{},Union{},Tuple{},NamedTuple{(),Tuple{}}}) at /home/mhizzani/Codes/NumNN/src/parallelBackForProp.jl:341",
      " [7] train(::Array{Posit{16,1},3}, ::BitArray{2}, ::Model, ::Int64; testData::Nothing, testLabels::Nothing, kwargs::Base.Iterators.Pairs{Union{},Union{},Tuple{},NamedTuple{(),Tuple{}}}) at /home/mhizzani/Codes/NumNN/src/parallelBackForProp.jl:627",
      " [8] train(::Array{Posit{16,1},3}, ::BitArray{2}, ::Model, ::Int64) at /home/mhizzani/Codes/NumNN/src/parallelBackForProp.jl:547",
      " [9] top-level scope at In[12]:1"
     ]
    }
   ],
   "source": [
    "TrainD = train(X_train, Y_train, model, 10)#; testData = X_test, testLabels = Y_test);"
   ]
  },
  {
   "cell_type": "markdown",
   "metadata": {},
   "source": [
    "`train` function provides an extra `kwargs` to use test Data/Labels to get the Costs and Accuracies during each training epochs. \n",
    "\n",
    "**Note** This will take extra time to do the training\n",
    "\n",
    "Instead it can be used as follows:\n",
    "\n",
    "```julia\n",
    "TrainD = train(X_train, Y_train, model, 10)\n",
    "```"
   ]
  },
  {
   "cell_type": "code",
   "execution_count": 13,
   "metadata": {},
   "outputs": [
    {
     "ename": "UndefVarError",
     "evalue": "UndefVarError: TrainD not defined",
     "output_type": "error",
     "traceback": [
      "UndefVarError: TrainD not defined",
      "",
      "Stacktrace:",
      " [1] top-level scope at In[13]:1"
     ]
    }
   ],
   "source": [
    "plot(1:10, TrainD[:trainAccuracies], label=\"Training Accuracies\")\n",
    "plot!(1:10, TrainD[:trainCosts], label=\"Training Costs\")\n",
    "# plot!(1:10, TrainD[:testAccuracies], label=\"Test Accuracies\")\n",
    "# plot!(1:10, TrainD[:testCosts], label=\"Test Costs\")\n",
    "ylabel!(\"Epochs\")"
   ]
  },
  {
   "cell_type": "markdown",
   "metadata": {},
   "source": [
    "### Predict After Training"
   ]
  },
  {
   "cell_type": "code",
   "execution_count": 14,
   "metadata": {},
   "outputs": [
    {
     "name": "stderr",
     "output_type": "stream",
     "text": [
      "\u001b[32mProgress:  23%|█████████▋                               |  ETA: 0:04:00\u001b[39m\n",
      "\u001b[34m  Instances 60000:  14048\u001b[39m"
     ]
    },
    {
     "ename": "InterruptException",
     "evalue": "InterruptException:",
     "output_type": "error",
     "traceback": [
      "InterruptException:",
      "",
      "Stacktrace:",
      " [1] broadcasted(::Function, ::Array{Posit{16,1},2}, ::Array{Posit{16,1},2}) at ./broadcast.jl:1238",
      " [2] layerForProp(::FCLayer, ::Array{Any,1}; FCache::Dict{Layer,Dict{Symbol,AbstractArray}}, kwargs::Base.Iterators.Pairs{Symbol,Bool,Tuple{Symbol},NamedTuple{(:prediction,),Tuple{Bool}}}) at /home/mhizzani/Codes/NumNN/src/parallelLayerForProp.jl:79",
      " [3] chainForProp(::SubArray{Posit{16,1},3,Array{Posit{16,1},3},Tuple{Base.OneTo{Int64},Base.OneTo{Int64},UnitRange{Int64}},false}, ::FCLayer, ::Int64; FCache::Dict{Layer,Dict{Symbol,AbstractArray}}, kwargs::Base.Iterators.Pairs{Symbol,Bool,Tuple{Symbol},NamedTuple{(:prediction,),Tuple{Bool}}}) at /home/mhizzani/Codes/NumNN/src/parallelBackForProp.jl:74",
      " [4] chainForProp(::SubArray{Posit{16,1},3,Array{Posit{16,1},3},Tuple{Base.OneTo{Int64},Base.OneTo{Int64},UnitRange{Int64}},false}, ::Flatten, ::Int64; FCache::Dict{Layer,Dict{Symbol,AbstractArray}}, kwargs::Base.Iterators.Pairs{Symbol,Bool,Tuple{Symbol},NamedTuple{(:prediction,),Tuple{Bool}}}) at /home/mhizzani/Codes/NumNN/src/parallelBackForProp.jl:78 (repeats 2 times)",
      " [5] predictBatch(::Model, ::SubArray{Posit{16,1},3,Array{Posit{16,1},3},Tuple{Base.OneTo{Int64},Base.OneTo{Int64},UnitRange{Int64}},false}, ::SubArray{Bool,2,BitArray{2},Tuple{Base.OneTo{Int64},UnitRange{Int64}},false}; kwargs::Base.Iterators.Pairs{Symbol,Bool,Tuple{Symbol},NamedTuple{(:prediction,),Tuple{Bool}}}) at /home/mhizzani/Codes/NumNN/src/parallelBackForProp.jl:121",
      " [6] macro expansion at /home/mhizzani/Codes/NumNN/src/parallelBackForProp.jl:205 [inlined]",
      " [7] macro expansion at ./simdloop.jl:77 [inlined]",
      " [8] predict(::Model, ::Array{Posit{16,1},3}, ::BitArray{2}; kwargs::Base.Iterators.Pairs{Union{},Union{},Tuple{},NamedTuple{(),Tuple{}}}) at /home/mhizzani/Codes/NumNN/src/parallelBackForProp.jl:198",
      " [9] predict(::Model, ::Array{Posit{16,1},3}, ::BitArray{2}) at /home/mhizzani/Codes/NumNN/src/parallelBackForProp.jl:164",
      " [10] top-level scope at In[14]:1"
     ]
    }
   ],
   "source": [
    "TrainP = predict(model, X_train, Y_train);\n",
    "\n",
    "println()\n",
    "println(\"The accuracy of Train Data after the training process $(round(TrainP[:accuracy], digits=4))\")"
   ]
  },
  {
   "cell_type": "code",
   "execution_count": null,
   "metadata": {},
   "outputs": [
    {
     "name": "stderr",
     "output_type": "stream",
     "text": [
      "\u001b[32mProgress:  30%|████████████▍                            |  ETA: 0:00:37\u001b[39m\n",
      "\u001b[34m  Instances 10000:  3008\u001b[39m"
     ]
    }
   ],
   "source": [
    "TestP = predict(model, X_test, Y_test);\n",
    "\n",
    "println()\n",
    "println(\"The accuracy of Test Data after the training process $(round(TestP[:accuracy], digits=4))\")"
   ]
  }
 ],
 "metadata": {
  "kernelspec": {
   "display_name": "Julia 1.4.1",
   "language": "julia",
   "name": "julia-1.4"
  },
  "language_info": {
   "file_extension": ".jl",
   "mimetype": "application/julia",
   "name": "julia",
   "version": "1.4.1"
  }
 },
 "nbformat": 4,
 "nbformat_minor": 4
}
